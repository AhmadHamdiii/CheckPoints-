{
 "cells": [
  {
   "cell_type": "markdown",
   "metadata": {},
   "source": [
    "**Statement**:\n",
    "\n",
    "1. Create a list to store the shopping items.\n",
    "2. Use a while loop to create a menu of options for the user to add, remove, or view items from the list\n",
    "3. Use a for loop to iterate through the list of items and display them to the user\n",
    "4. Use the range() function to limit the number of items that can be added to the list\n",
    "5. Use the list, tuple, set, and dictionary data structures to store and manipulate the shopping items\n",
    "\n",
    "**Instructions**:\n",
    "\n",
    "1-Create a list named 'shopping_list' to store the items.\n",
    "\n",
    "2-Use a while loop to create a menu of options for the user to add, remove, or view items from the list.\n",
    "\n",
    "3-Use the input() function to prompt the user to make a selection from the menu. \n",
    "\n",
    "4-Use an if-elif-else block to determine the user's selection and perform the corresponding action.\n",
    "\n",
    "5-If the user selects 'add', use the input() function to prompt the user to enter an item to add to the list. Use the range() function to limit the number of items that can be added to the list.\n",
    "\n",
    "6-If the user selects 'remove', use the input() function to prompt the user to enter an item to remove from the list.\n",
    "\n",
    "7-If the user selects 'view', use a for loop to iterate through the list of items and display them to the user.\n",
    "\n",
    "8-Use the list, tuple, set, and dictionary data structures to store and manipulate the shopping items."
   ]
  },
  {
   "cell_type": "code",
   "execution_count": 6,
   "metadata": {},
   "outputs": [
    {
     "name": "stdout",
     "output_type": "stream",
     "text": [
      "Shopping Menu:\n",
      "1. Add\n",
      "2. Remove\n",
      "3. View items\n",
      "qq has been added to the shopping list\n"
     ]
    }
   ],
   "source": [
    "shopping_list = []\n",
    "print(\"Shopping Menu:\")\n",
    "print(\"1. Add\")\n",
    "print(\"2. Remove\")\n",
    "print(\"3. View items\")\n",
    "\n",
    "selection = input(\"Enter your choice (1-3) to add , remove or view items: \")\n",
    "\n",
    "if selection == \"1\":\n",
    "        if len(shopping_list) < 5:\n",
    "                item = input(\"enter the item to add: \")\n",
    "                shopping_list.append(item)\n",
    "                print(f\"{item} has been added to the shopping list\")\n",
    "        else:\n",
    "            print(\"maximum number of items\")\n",
    "      \n",
    "elif selection == \"2\":\n",
    "        item = input(\"Enter the item to remove: \")\n",
    "        shopping_list.remove(item)\n",
    "        print(f\"{item} has been removed to the shopping list\")\n",
    "\n",
    "elif selection == \"3\":\n",
    "        print(shopping_list)\n",
    "\n",
    "else:\n",
    "        print(\"Invalid selection. Please try again.\")"
   ]
  },
  {
   "cell_type": "code",
   "execution_count": 9,
   "metadata": {},
   "outputs": [
    {
     "name": "stdout",
     "output_type": "stream",
     "text": [
      "['qq']\n"
     ]
    }
   ],
   "source": [
    "print (shopping_list)"
   ]
  }
 ],
 "metadata": {
  "kernelspec": {
   "display_name": "base",
   "language": "python",
   "name": "python3"
  },
  "language_info": {
   "codemirror_mode": {
    "name": "ipython",
    "version": 3
   },
   "file_extension": ".py",
   "mimetype": "text/x-python",
   "name": "python",
   "nbconvert_exporter": "python",
   "pygments_lexer": "ipython3",
   "version": "3.11.5"
  }
 },
 "nbformat": 4,
 "nbformat_minor": 2
}
