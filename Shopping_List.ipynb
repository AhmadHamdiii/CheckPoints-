{
 "cells": [
  {
   "cell_type": "markdown",
   "metadata": {},
   "source": [
    "**Statement**:\n",
    "\n",
    "1. Create a list to store the shopping items.\n",
    "2. Use a while loop to create a menu of options for the user to add, remove, or view items from the list\n",
    "3. Use a for loop to iterate through the list of items and display them to the user\n",
    "4. Use the range() function to limit the number of items that can be added to the list\n",
    "5. Use the list, tuple, set, and dictionary data structures to store and manipulate the shopping items\n",
    "\n",
    "**Instructions**:\n",
    "\n",
    "1-Create a list named 'shopping_list' to store the items.\n",
    "\n",
    "2-Use a while loop to create a menu of options for the user to add, remove, or view items from the list.\n",
    "\n",
    "3-Use the input() function to prompt the user to make a selection from the menu. \n",
    "\n",
    "4-Use an if-elif-else block to determine the user's selection and perform the corresponding action.\n",
    "\n",
    "5-If the user selects 'add', use the input() function to prompt the user to enter an item to add to the list. Use the range() function to limit the number of items that can be added to the list.\n",
    "\n",
    "6-If the user selects 'remove', use the input() function to prompt the user to enter an item to remove from the list.\n",
    "\n",
    "7-If the user selects 'view', use a for loop to iterate through the list of items and display them to the user.\n",
    "\n",
    "8-Use the list, tuple, set, and dictionary data structures to store and manipulate the shopping items."
   ]
  },
  {
   "cell_type": "code",
   "execution_count": 31,
   "metadata": {},
   "outputs": [],
   "source": [
    "shopping_list = []"
   ]
  },
  {
   "cell_type": "code",
   "execution_count": 32,
   "metadata": {},
   "outputs": [
    {
     "name": "stdout",
     "output_type": "stream",
     "text": [
      "Shopping Menu:\n",
      "1. Add\n",
      "2. Remove\n",
      "3. View items\n"
     ]
    }
   ],
   "source": [
    "print(\"Shopping Menu:\")\n",
    "print(\"1. Add\")\n",
    "print(\"2. Remove\")\n",
    "print(\"3. View items\")"
   ]
  },
  {
   "cell_type": "code",
   "execution_count": 45,
   "metadata": {},
   "outputs": [
    {
     "name": "stdout",
     "output_type": "stream",
     "text": [
      "wqeqeq has been added to the shopping list\n"
     ]
    }
   ],
   "source": [
    "selection = input(\"Enter your choice (1-3): \")\n",
    "\n",
    "if selection == \"1\":\n",
    "        item = input(\"Enter the item to add: \")\n",
    "        shopping_list.append(item)\n",
    "        print(f\"{item} has been added to the shopping list\")\n",
    "      \n",
    "elif selection == \"2\":\n",
    "        item = input(\"Enter the item to remove: \")\n",
    "        shopping_list.remove(item)\n",
    "        print(f\"{item} has been removed to the shopping list\")\n",
    "\n",
    "elif selection == \"3\":\n",
    "        print(shopping_list)\n",
    "\n",
    "else:\n",
    "        print(\"Invalid selection. Please try again.\")"
   ]
  },
  {
   "cell_type": "code",
   "execution_count": 46,
   "metadata": {},
   "outputs": [
    {
     "name": "stdout",
     "output_type": "stream",
     "text": [
      "['eee', 'dddd', 'jhfahf', 'dfsfs', 'dsfsdfsfsfs', 'sdada', 'wqeqeq']\n"
     ]
    }
   ],
   "source": [
    "print (shopping_list)"
   ]
  },
  {
   "cell_type": "code",
   "execution_count": 4,
   "metadata": {},
   "outputs": [
    {
     "name": "stdout",
     "output_type": "stream",
     "text": [
      " has been added to the shopping list.\n"
     ]
    }
   ],
   "source": [
    "\n",
    "choice = input(\"Enter your choice (1-3): \")\n",
    "\n",
    "if choice == '1':\n",
    "        # Add item to the list\n",
    "        if len(shopping_list) < 5:  # Limit the number of items using range(5)\n",
    "            item = input(\"Enter the item to add: \")\n",
    "            shopping_list.append(item)\n",
    "            print(f\"{item} has been added to the shopping list.\")\n",
    "        else:\n",
    "            print(\"Maximum number of items reached. Cannot add more.\")\n",
    "\n",
    "elif choice == '2':\n",
    "        # Remove item from the list\n",
    "        if shopping_list:\n",
    "            item_to_remove = input(\"Enter the item to remove: \")\n",
    "            if item_to_remove in shopping_list:\n",
    "                shopping_list.remove(item_to_remove)\n",
    "                print(f\"{item_to_remove} has been removed from the shopping list.\")\n",
    "            else:\n",
    "                print(f\"{item_to_remove} not found in the shopping list.\")\n",
    "        else:\n",
    "            print(\"Shopping list is empty. Cannot remove items.\")\n",
    "\n",
    "elif choice == '3':\n",
    "        # View items in the list\n",
    "        if shopping_list:\n",
    "            print(\"\\nShopping List:\")\n",
    "            for index, item in enumerate(shopping_list, 1):\n",
    "                print(f\"{index}. {item}\")\n",
    "        else:\n",
    "            print(\"Shopping list is empty.\")\n",
    "\n",
    "else:\n",
    "        # Invalid choice\n",
    "        print(\"Invalid choice. Please enter a number between 1 and 3.\")"
   ]
  }
 ],
 "metadata": {
  "kernelspec": {
   "display_name": "base",
   "language": "python",
   "name": "python3"
  },
  "language_info": {
   "codemirror_mode": {
    "name": "ipython",
    "version": 3
   },
   "file_extension": ".py",
   "mimetype": "text/x-python",
   "name": "python",
   "nbconvert_exporter": "python",
   "pygments_lexer": "ipython3",
   "version": "3.11.5"
  }
 },
 "nbformat": 4,
 "nbformat_minor": 2
}
