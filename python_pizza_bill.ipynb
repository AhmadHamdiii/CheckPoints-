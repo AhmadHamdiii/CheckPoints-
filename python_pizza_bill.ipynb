{
 "cells": [
  {
   "cell_type": "markdown",
   "metadata": {},
   "source": [
    "Instructions\n",
    "\n",
    "Open a new file in your Python development environment or IDE.\n",
    "Begin by typing the line 'Welcome to Python Pizza Deliveries' which will display a welcome message when the code is run.\n",
    "Add a line that prompts the user for the size of the pizza they want using the input() function and stores the user's input in a variable named 'size'.\n",
    "Add a line that prompts the user if they want pepperoni on their pizza using the input() function and stores the user's input in a variable named 'add_pepperoni'.\n",
    "Add a line that prompts the user if they want extra cheese on their pizza using the input() function and stores the user's input in a variable named 'extra_cheese'.\n",
    "Check your code for any syntax errors or mistakes.\n",
    "Run the code and test it by providing inputs for size, pepperoni, and extra cheese.\n",
    "Example Input\n",
    "\n",
    "size = \"L\"\n",
    "\n",
    "add_pepperoni = \"Y\"\n",
    "\n",
    "extra_cheese = \"N\"\n",
    "\n",
    "Example Output\n",
    "\n",
    "Your final bill is: $28.\n",
    "\n",
    "When you hit **run**, this is what should happen"
   ]
  },
  {
   "cell_type": "code",
   "execution_count": 3,
   "metadata": {},
   "outputs": [
    {
     "name": "stdout",
     "output_type": "stream",
     "text": [
      "Welcome to Python Pizza Deliveries\n"
     ]
    }
   ],
   "source": [
    "print(\"Welcome to Python Pizza Deliveries\")\n",
    "\n",
    "small_pizza_price = 15\n",
    "medium_pizza_price = 20\n",
    "large_pizza_price = 25\n",
    "\n",
    "pepperoni_price_small = 2\n",
    "pepperoni_price_medium = 3\n",
    "pepperoni_price_large = 3\n",
    "\n",
    "cheese_price = 1\n",
    "\n",
    "size = input(\"What size pizza do you want? Small, Medium, or Large: \")\n",
    "add_pepperoni = input(\"Do you want to add pepperoni? Yes or No: \")\n",
    "extra_cheese = input(\"Do you want extra cheese? Yes or No: \")   "
   ]
  },
  {
   "cell_type": "code",
   "execution_count": 11,
   "metadata": {},
   "outputs": [
    {
     "name": "stdout",
     "output_type": "stream",
     "text": [
      "27\n"
     ]
    }
   ],
   "source": [
    "if size == \"small\":\n",
    "    total_price = small_pizza_price\n",
    "elif size == \"medium\":\n",
    "    total_price = medium_pizza_price\n",
    "elif size == \"large\":\n",
    "    total_price = large_pizza_price    \n",
    "else:\n",
    "    print(\"Invalid pizza size. Please choose Small, Medium, or Large.\")\n",
    "    total_price = 0\n",
    "\n",
    "\n",
    "if add_pepperoni ==\"yes\":\n",
    "    pepperoni_size = input(\"add pepperoni size small, large or medium \")\n",
    "    if pepperoni_size == \"small\":\n",
    "        total_price += pepperoni_price_small\n",
    "    elif pepperoni_size == \"medium\":\n",
    "        total_price += pepperoni_price_medium\n",
    "    elif pepperoni_size == \"large\":\n",
    "        total_price += pepperoni_price_large\n",
    "elif add_pepperoni == \"no\":\n",
    "    total_price == total_price\n",
    "else:\n",
    "    print(\"wrong option\")\n",
    "\n",
    "if extra_cheese == \"yes\":\n",
    "    total_price += cheese_price\n",
    "else:\n",
    "    print (total_price)"
   ]
  }
 ],
 "metadata": {
  "kernelspec": {
   "display_name": "base",
   "language": "python",
   "name": "python3"
  },
  "language_info": {
   "codemirror_mode": {
    "name": "ipython",
    "version": 3
   },
   "file_extension": ".py",
   "mimetype": "text/x-python",
   "name": "python",
   "nbconvert_exporter": "python",
   "pygments_lexer": "ipython3",
   "version": "3.11.5"
  }
 },
 "nbformat": 4,
 "nbformat_minor": 2
}
