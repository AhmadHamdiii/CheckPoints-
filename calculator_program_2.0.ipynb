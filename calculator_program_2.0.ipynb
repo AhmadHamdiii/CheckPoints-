{
 "cells": [
  {
   "cell_type": "markdown",
   "metadata": {},
   "source": [
    "Instructions\n",
    "\n",
    "Create a new file called \"calculator_2.0.py\"\n",
    "Create a class called \"Calculator\" that contains the following:\n",
    "A dictionary attribute to store the available mathematical operations and their corresponding functions\n",
    "A method called \"init\" that initializes the dictionary with the basic mathematical operations (+, -, *, /) and corresponding functions\n",
    "A method called \"add_operation\" that takes in two arguments: the operation symbol and the corresponding function. This method should add the new operation and function to the dictionary.\n",
    "A method called \"calculate\" that takes in three arguments: the first number, the operation symbol, and the second number. This method should use the dictionary to determine the appropriate function to perform the calculation. It should also include error handling to check if the operation symbol is valid and if the input values are numbers. If an error is encountered, the method should print an error message and raise an exception.\n",
    "Create separate functions for the advanced mathematical operations (exponentiation, square root, logarithm) and use the \"add_operation\" method to add them to the calculator's dictionary.\n",
    "In the main program, create an instance of the Calculator class, and use a while loop that allows the user to continue performing calculations until they choose to exit.\n",
    "Use the input() function to get input from the user for the numbers and operation symbol.Use the math library for advanced mathematical operations\n",
    "Use the isinstance() function to check if the input is a number."
   ]
  },
  {
   "cell_type": "code",
   "execution_count": null,
   "metadata": {},
   "outputs": [],
   "source": []
  }
 ],
 "metadata": {
  "language_info": {
   "name": "python"
  }
 },
 "nbformat": 4,
 "nbformat_minor": 2
}
