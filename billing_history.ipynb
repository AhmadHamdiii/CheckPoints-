{
 "cells": [
  {
   "cell_type": "markdown",
   "metadata": {},
   "source": [
    "Instructions\n",
    "\n",
    "Load the dataset, display the ten first lines, store the results in a variable called 'client_0_bills'.\n",
    "What is the data type of the 'client_0_bills' variable ?\n",
    "Display the general information of the dataset and try to answer the following questions : \n",
    "How many rows and columns do we have in this dataset ?\n",
    "How many categorical features are present in the dataset ?\n",
    "How much memory space does the dataset consume ?\n",
    "Inspect the dataset for potential missing values.\n",
    "Select your strategy to handle missing values, and tell us why you had made that choice.\n",
    "Run a descriptive analysis on numeric features (columns).\n",
    "Select the bills records for the client with an id ='train_Client_0', using 2 methods.\n",
    "Transform the 'counter_type' feature to a numeric variable using the encoder of your choice.\n",
    "Delete the 'counter_statue' feature from the Dataframe"
   ]
  },
  {
   "cell_type": "code",
   "execution_count": 1,
   "metadata": {},
   "outputs": [
    {
     "ename": "SyntaxError",
     "evalue": "invalid syntax (2622131896.py, line 3)",
     "output_type": "error",
     "traceback": [
      "\u001b[1;36m  Cell \u001b[1;32mIn[1], line 3\u001b[1;36m\u001b[0m\n\u001b[1;33m    Load the dataset, display the ten first lines, store the results in a variable called 'client_0_bills'.\u001b[0m\n\u001b[1;37m         ^\u001b[0m\n\u001b[1;31mSyntaxError\u001b[0m\u001b[1;31m:\u001b[0m invalid syntax\n"
     ]
    }
   ],
   "source": []
  }
 ],
 "metadata": {
  "kernelspec": {
   "display_name": "base",
   "language": "python",
   "name": "python3"
  },
  "language_info": {
   "codemirror_mode": {
    "name": "ipython",
    "version": 3
   },
   "file_extension": ".py",
   "mimetype": "text/x-python",
   "name": "python",
   "nbconvert_exporter": "python",
   "pygments_lexer": "ipython3",
   "version": "3.11.5"
  }
 },
 "nbformat": 4,
 "nbformat_minor": 2
}
