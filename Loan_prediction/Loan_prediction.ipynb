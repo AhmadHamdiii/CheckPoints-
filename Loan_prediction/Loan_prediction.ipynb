{
 "cells": [
  {
   "cell_type": "markdown",
   "metadata": {},
   "source": [
    "Instructions\n",
    "\n",
    "Begin by importing the necessary libraries, numpy.\n",
    "Use the open() function to open csv file and assign the result to a variable.\n",
    "Use the numpy array to perform some basic statistical analysis on the data, such as finding the mean, median, and standard deviation of the loan amounts.\n",
    "\n",
    "Note:\n",
    "\n",
    "Be sure to close the file after you have finished reading it in with the open() function.\n",
    "Use the delimiter parameter in the genfromtxt() function to specify that the values in the file are separated by commas.\n",
    "You can use the numpy functions mean(), median(), and std() to find the mean, median, and standard deviation of the loan amounts."
   ]
  },
  {
   "cell_type": "code",
   "execution_count": 2,
   "metadata": {},
   "outputs": [
    {
     "name": "stdout",
     "output_type": "stream",
     "text": [
      "test code\n"
     ]
    }
   ],
   "source": [
    "print ('test code')\n",
    "\n",
    "\n",
    "\n",
    "\n",
    "\n"
   ]
  }
 ],
 "metadata": {
  "kernelspec": {
   "display_name": "base",
   "language": "python",
   "name": "python3"
  },
  "language_info": {
   "codemirror_mode": {
    "name": "ipython",
    "version": 3
   },
   "file_extension": ".py",
   "mimetype": "text/x-python",
   "name": "python",
   "nbconvert_exporter": "python",
   "pygments_lexer": "ipython3",
   "version": "3.11.5"
  }
 },
 "nbformat": 4,
 "nbformat_minor": 2
}
