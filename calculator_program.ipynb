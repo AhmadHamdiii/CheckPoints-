{
 "cells": [
  {
   "cell_type": "markdown",
   "metadata": {},
   "source": [
    "-Create four basic mathematical functions: 'add', 'subtract', 'multiply', and 'divide' that take in two numbers and return the result of the operation.\n",
    "\n",
    "-Create a dictionary 'operations' that assigns the functions to their corresponding operation symbols.\n",
    "\n",
    "-Create a function 'calculator' that prompts the user to input the first number.\n",
    "\n",
    "-Use a for loop to print the available operation symbols.\n",
    "\n",
    "-Create a while loop that will continue to run until the user chooses to end the current calculation.\n",
    "\n",
    "-Inside the while loop, prompt the user to select an operation symbol.\n",
    "\n",
    "-Prompt the user to input the second number.\n",
    "\n",
    "-Use the dictionary to retrieve the function that corresponds to the selected operation symbol and store it in a variable 'calculation_function'\n",
    "\n",
    "-Perform the calculation by calling the 'calculation_function' on the two input numbers and store the result in a variable 'answer'.\n",
    "\n",
    "-Print the equation and the result of the calculation.\n",
    "\n",
    "-Ask the user if they would like to continue using the result as the first number for further calculations.\n",
    "\n",
    "-If the user chooses to continue, update the 'num1' variable to the value of 'answer'.\n",
    "\n",
    "-If the user chooses to start a new calculation, set the 'should_continue' variable to false and call the 'calculator' function to start a new calculation."
   ]
  },
  {
   "cell_type": "code",
   "execution_count": null,
   "metadata": {},
   "outputs": [],
   "source": []
  },
  {
   "cell_type": "code",
   "execution_count": null,
   "metadata": {},
   "outputs": [],
   "source": []
  },
  {
   "cell_type": "code",
   "execution_count": null,
   "metadata": {},
   "outputs": [],
   "source": []
  },
  {
   "cell_type": "code",
   "execution_count": null,
   "metadata": {},
   "outputs": [],
   "source": []
  },
  {
   "cell_type": "code",
   "execution_count": null,
   "metadata": {},
   "outputs": [],
   "source": []
  },
  {
   "cell_type": "code",
   "execution_count": null,
   "metadata": {},
   "outputs": [],
   "source": []
  }
 ],
 "metadata": {
  "kernelspec": {
   "display_name": "base",
   "language": "python",
   "name": "python3"
  },
  "language_info": {
   "codemirror_mode": {
    "name": "ipython",
    "version": 3
   },
   "file_extension": ".py",
   "mimetype": "text/x-python",
   "name": "python",
   "nbconvert_exporter": "python",
   "pygments_lexer": "ipython3",
   "version": "3.11.5"
  }
 },
 "nbformat": 4,
 "nbformat_minor": 2
}
