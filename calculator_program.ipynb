{
 "cells": [
  {
   "cell_type": "markdown",
   "metadata": {},
   "source": [
    "-Create four basic mathematical functions: 'add', 'subtract', 'multiply', and 'divide' that take in two numbers and return the result of the operation.\n",
    "\n",
    "-Create a dictionary 'operations' that assigns the functions to their corresponding operation symbols.\n",
    "\n",
    "-Create a function 'calculator' that prompts the user to input the first number.\n",
    "\n",
    "-Use a for loop to print the available operation symbols.\n",
    "\n",
    "-Create a while loop that will continue to run until the user chooses to end the current calculation.\n",
    "\n",
    "-Inside the while loop, prompt the user to select an operation symbol.\n",
    "\n",
    "-Prompt the user to input the second number.\n",
    "\n",
    "-Use the dictionary to retrieve the function that corresponds to the selected operation symbol and store it in a variable 'calculation_function'\n",
    "\n",
    "-Perform the calculation by calling the 'calculation_function' on the two input numbers and store the result in a variable 'answer'.\n",
    "\n",
    "-Print the equation and the result of the calculation.\n",
    "\n",
    "-Ask the user if they would like to continue using the result as the first number for further calculations.\n",
    "\n",
    "-If the user chooses to continue, update the 'num1' variable to the value of 'answer'.\n",
    "\n",
    "-If the user chooses to start a new calculation, set the 'should_continue' variable to false and call the 'calculator' function to start a new calculation."
   ]
  },
  {
   "cell_type": "code",
   "execution_count": 18,
   "metadata": {},
   "outputs": [],
   "source": [
    "def add(a, b):\n",
    "    return a+b\n",
    "\n",
    "def subtract(a, b):\n",
    "    return a-b\n",
    "\n",
    "def multiply(a, b):\n",
    "    return a * b\n",
    "\n",
    "def divide(a, b):\n",
    "    return a/b"
   ]
  },
  {
   "cell_type": "code",
   "execution_count": 19,
   "metadata": {},
   "outputs": [],
   "source": [
    "operations = {\n",
    "    '+': add,\n",
    "    '-': subtract,\n",
    "    '*': multiply,\n",
    "    '/': divide\n",
    "}"
   ]
  },
  {
   "cell_type": "code",
   "execution_count": null,
   "metadata": {},
   "outputs": [],
   "source": [
    "def calculator():\n",
    "    num1 = float(input(\"Enter the first number: \"))\n",
    "\n",
    "    print(\"Available operations:\")\n",
    "    for symbol in operations:\n",
    "        print(symbol)\n",
    "\n",
    "    should_continue = True\n",
    "    while should_continue:\n",
    "        operation_symbol = input(\"Select an operation symbol (+, -, *, /): \")\n",
    "        if operation_symbol not in operations:\n",
    "            print(\"Invalid operation symbol. Please choose from +, -, *, /.\")\n",
    "            continue\n",
    "\n",
    "        num2 = float(input(\"Enter the second number: \"))\n",
    "        calculation_function = operations[operation_symbol]\n",
    "        answer = calculation_function(num1, num2)\n",
    "\n",
    "        print(f\"{num1} {operation_symbol} {num2} = {answer}\")\n",
    "\n",
    "        choice = input(\"Do you want to continue using the result as the first number? (yes/no): \")\n",
    "        if choice.lower() == 'yes':\n",
    "            num1 = answer\n",
    "        else:\n",
    "            should_continue = False\n",
    "            print(\"Starting a new calculation...\")\n",
    "\n",
    "calculator()"
   ]
  }
 ],
 "metadata": {
  "kernelspec": {
   "display_name": "base",
   "language": "python",
   "name": "python3"
  },
  "language_info": {
   "codemirror_mode": {
    "name": "ipython",
    "version": 3
   },
   "file_extension": ".py",
   "mimetype": "text/x-python",
   "name": "python",
   "nbconvert_exporter": "python",
   "pygments_lexer": "ipython3",
   "version": "3.11.5"
  }
 },
 "nbformat": 4,
 "nbformat_minor": 2
}
