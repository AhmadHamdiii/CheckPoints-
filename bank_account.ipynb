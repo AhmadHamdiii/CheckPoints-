{
 "cells": [
  {
   "cell_type": "markdown",
   "metadata": {},
   "source": [
    "Create a new file called \"bank_account.py\"\n",
    "\n",
    "Define the Account class and its attributes as specified above.\n",
    "\n",
    "Define the deposit() method. It should take in one argument, the amount to be deposited, and add it to the account balance.\n",
    "\n",
    "Define the withdraw() method. It should take in one argument, the amount to be withdrawn, and subtract it from the account balance. The method should only execute the withdrawal if the account balance is greater than or equal to the amount to be withdrawn.\n",
    "Define the check_balance() method. It should return the current account balance.\n",
    "\n",
    "Create an instance of the Account class, and assign it to a variable called \"my_account\".\n",
    "\n",
    "Use the methods of the class to deposit and withdraw money from the account, and check the account balance.\n",
    "\n",
    "Test the program by creating multiple instances of the class and performing different transactions on them"
   ]
  },
  {
   "cell_type": "code",
   "execution_count": null,
   "metadata": {},
   "outputs": [],
   "source": []
  }
 ],
 "metadata": {
  "language_info": {
   "name": "python"
  }
 },
 "nbformat": 4,
 "nbformat_minor": 2
}
