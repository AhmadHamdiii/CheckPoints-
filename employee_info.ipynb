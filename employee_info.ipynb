{
 "cells": [
  {
   "cell_type": "markdown",
   "metadata": {},
   "source": [
    "Instructions:\n",
    "\n",
    "Create a dataframe called \"employee_df\" with the following data:\n",
    "import pandas as pd\n",
    "\n",
    "data = {'Name': ['John', 'Mary', 'Bob', 'Sarah', 'Tom', 'Lisa'], 'Department': ['IT', 'Marketing', 'Sales', 'IT', 'Finance', 'Marketing'], 'Age': [30, 40, 25, 35, 45, 28], 'Gender': ['Male', 'Female', 'Male', 'Female', 'Male', 'Female'], 'Salary': [50000, 60000, 45000, 55000, 70000, 55000], 'Experience': [3, 7, 2, 5, 10, 4]}\n",
    "employee_df = pd.DataFrame(data)\n",
    "\n",
    " \n",
    "\n",
    "Use the iloc method to select the first 3 rows of the dataframe.\n",
    "Use the loc method to select all rows where the Department is \"Marketing\".\n",
    "Use the iloc method to select the Age and Gender columns for the first 4 rows of the dataframe.\n",
    "Use the loc method to select the Salary and Experience columns for all rows where the Gender is \"Male\".\n",
    "\n",
    "\n",
    "Note:\n",
    "\n",
    "iloc is used for selection by index location\n",
    "loc is used for selection by label."
   ]
  },
  {
   "cell_type": "code",
   "execution_count": null,
   "metadata": {},
   "outputs": [],
   "source": []
  }
 ],
 "metadata": {
  "language_info": {
   "name": "python"
  }
 },
 "nbformat": 4,
 "nbformat_minor": 2
}
